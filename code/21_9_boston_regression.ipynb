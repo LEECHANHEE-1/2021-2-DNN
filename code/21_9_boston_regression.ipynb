{
  "nbformat": 4,
  "nbformat_minor": 0,
  "metadata": {
    "colab": {
      "name": "21-9-boston_regression.ipynb",
      "provenance": [],
      "collapsed_sections": [],
      "include_colab_link": true
    },
    "kernelspec": {
      "name": "python3",
      "display_name": "Python 3"
    }
  },
  "cells": [
    {
      "cell_type": "markdown",
      "metadata": {
        "id": "view-in-github",
        "colab_type": "text"
      },
      "source": [
        "<a href=\"https://colab.research.google.com/github/ai7dnn/2021-2-DNN/blob/main/code/21_9_boston_regression.ipynb\" target=\"_parent\"><img src=\"https://colab.research.google.com/assets/colab-badge.svg\" alt=\"Open In Colab\"/></a>"
      ]
    },
    {
      "cell_type": "code",
      "metadata": {
        "colab": {
          "base_uri": "https://localhost:8080/",
          "height": 35
        },
        "id": "NeAEmWtafA4n",
        "outputId": "ecb25203-0f63-4520-f655-e6dd25ca20e5"
      },
      "source": [
        "import numpy as np\n",
        "import matplotlib.pyplot as plt\n",
        "import tensorflow as tf\n",
        "tf.__version__"
      ],
      "execution_count": null,
      "outputs": [
        {
          "output_type": "execute_result",
          "data": {
            "application/vnd.google.colaboratory.intrinsic+json": {
              "type": "string"
            },
            "text/plain": [
              "'2.6.0'"
            ]
          },
          "metadata": {},
          "execution_count": 28
        }
      ]
    },
    {
      "cell_type": "markdown",
      "metadata": {
        "id": "HLExgHBAB1v_"
      },
      "source": [
        "# 보스턴 주택 가격 데이터세트(Boston Housing Dataset)"
      ]
    },
    {
      "cell_type": "code",
      "metadata": {
        "id": "jhqfmd2SC9rR",
        "colab": {
          "base_uri": "https://localhost:8080/",
          "height": 374
        },
        "outputId": "8c1b04d6-a85e-4901-f30d-12351d8e815c"
      },
      "source": [
        "# 활성화 함수\n",
        "import math\n",
        "def sigmoid(x):\n",
        "    return 1 / (1 + math.exp(-x))\n",
        "\n",
        "x = np.arange(-5, 5, 0.01)\n",
        "sigmoid_x = [sigmoid(z) for z in x]\n",
        "tanh_x = [math.tanh(z) for z in x]\n",
        "relu = [0 if z < 0 else z for z in x]\n",
        "\n",
        "plt.figure(figsize=(8, 6)) \n",
        "\n",
        "plt.axhline(0, color='gray')\n",
        "plt.axvline(0, color='gray')\n",
        "plt.plot(x, sigmoid_x, 'b-', label='sigmoid')\n",
        "plt.plot(x, tanh_x, 'r--', label='tanh')\n",
        "plt.plot(x, relu, 'g.', label='relu')\n",
        "plt.legend()\n",
        "plt.show()"
      ],
      "execution_count": null,
      "outputs": [
        {
          "output_type": "display_data",
          "data": {
            "image/png": "[encoded data removed]",
            "text/plain": [
              "<Figure size 576x432 with 1 Axes>"
            ]
          },
          "metadata": {
            "needs_background": "light"
          }
        }
      ]
    },
    {
      "cell_type": "code",
      "metadata": {
        "id": "5TRpUqVYB3W3",
        "colab": {
          "base_uri": "https://localhost:8080/"
        },
        "outputId": "f6db75e5-5767-4964-e2bc-a95b25da543d"
      },
      "source": [
        "# 4.11 데이터 불러오기\n",
        "from tensorflow.keras.datasets import boston_housing\n",
        "(train_X, train_Y), (test_X, test_Y) = boston_housing.load_data()\n",
        "\n",
        "print(train_X.shape, test_X.shape)\n",
        "print(train_X[0])\n",
        "print(train_Y[0])"
      ],
      "execution_count": null,
      "outputs": [
        {
          "output_type": "stream",
          "name": "stdout",
          "text": [
            "(404, 13) (102, 13)\n",
            "[  1.23247   0.        8.14      0.        0.538     6.142    91.7\n",
            "   3.9769    4.      307.       21.      396.9      18.72   ]\n",
            "15.2\n"
          ]
        }
      ]
    },
    {
      "cell_type": "code",
      "metadata": {
        "id": "JCJiQEJ6B5Vn",
        "colab": {
          "base_uri": "https://localhost:8080/"
        },
        "outputId": "e15e17bd-cefb-4b82-d9ac-36bec1b38740"
      },
      "source": [
        "# 4.12 데이터 전처리(정규화)\n",
        "x_mean = train_X.mean(axis=0)\n",
        "x_std = train_X.std(axis=0)\n",
        "train_X -= x_mean\n",
        "train_X /= x_std\n",
        "test_X -= x_mean\n",
        "test_X /= x_std\n",
        "\n",
        "y_mean = train_Y.mean(axis=0)\n",
        "y_std = train_Y.std(axis=0)\n",
        "train_Y -= y_mean\n",
        "train_Y /= y_std\n",
        "test_Y -= y_mean\n",
        "test_Y /= y_std\n",
        "\n",
        "print(train_X[0])\n",
        "print(train_Y[0])"
      ],
      "execution_count": null,
      "outputs": [
        {
          "output_type": "stream",
          "name": "stdout",
          "text": [
            "[-0.27224633 -0.48361547 -0.43576161 -0.25683275 -0.1652266  -0.1764426\n",
            "  0.81306188  0.1166983  -0.62624905 -0.59517003  1.14850044  0.44807713\n",
            "  0.8252202 ]\n",
            "-0.7821526033779157\n"
          ]
        }
      ]
    },
    {
      "cell_type": "code",
      "metadata": {
        "id": "RUuoTTDaCR2g",
        "colab": {
          "base_uri": "https://localhost:8080/"
        },
        "outputId": "67e03052-dffc-4ff7-efca-906cd91987dd"
      },
      "source": [
        "\n",
        "# 4.13 Boston Housing Dataset 회귀 모델 생성\n",
        "model = tf.keras.models.Sequential([\n",
        "    tf.keras.layers.Dense(units=52, activation='relu', input_shape=(13,)),\n",
        "    tf.keras.layers.Dense(units=39, activation='relu'),\n",
        "    tf.keras.layers.Dense(units=26, activation='relu'),\n",
        "    tf.keras.layers.Dense(units=1)\n",
        "])\n",
        "\n",
        "model.compile(optimizer=tf.keras.optimizers.Adam(lr=0.07), loss='mse')\n",
        "#model.compile(optimizer=tf.keras.optimizers.Adam(), loss='mse')\n",
        "\n",
        "model.summary()"
      ],
      "execution_count": null,
      "outputs": [
        {
          "output_type": "stream",
          "name": "stdout",
          "text": [
            "Model: \"sequential_5\"\n",
            "_________________________________________________________________\n",
            "Layer (type)                 Output Shape              Param #   \n",
            "=================================================================\n",
            "dense_20 (Dense)             (None, 52)                728       \n",
            "_________________________________________________________________\n",
            "dense_21 (Dense)             (None, 39)                2067      \n",
            "_________________________________________________________________\n",
            "dense_22 (Dense)             (None, 26)                1040      \n",
            "_________________________________________________________________\n",
            "dense_23 (Dense)             (None, 1)                 27        \n",
            "=================================================================\n",
            "Total params: 3,862\n",
            "Trainable params: 3,862\n",
            "Non-trainable params: 0\n",
            "_________________________________________________________________\n"
          ]
        },
        {
          "output_type": "stream",
          "name": "stderr",
          "text": [
            "/usr/local/lib/python3.7/dist-packages/keras/optimizer_v2/optimizer_v2.py:356: UserWarning: The `lr` argument is deprecated, use `learning_rate` instead.\n",
            "  \"The `lr` argument is deprecated, use `learning_rate` instead.\")\n"
          ]
        }
      ]
    },
    {
      "cell_type": "code",
      "metadata": {
        "id": "5wNIp0L6CsgX",
        "colab": {
          "base_uri": "https://localhost:8080/"
        },
        "outputId": "499ac818-ee7d-41af-dfc1-c9f99e0ec9ee"
      },
      "source": [
        "# 4.14 회귀 모델 학습\n",
        "history = model.fit(train_X, train_Y, epochs=25, batch_size=32, validation_split=0.25)"
      ],
      "execution_count": null,
      "outputs": [
        {
          "output_type": "stream",
          "name": "stdout",
          "text": [
            "Epoch 1/25\n",
            "10/10 [==============================] - 1s 17ms/step - loss: 3.4685 - val_loss: 0.8027\n",
            "Epoch 2/25\n",
            "10/10 [==============================] - 0s 4ms/step - loss: 0.4705 - val_loss: 0.3747\n",
            "Epoch 3/25\n",
            "10/10 [==============================] - 0s 5ms/step - loss: 0.2967 - val_loss: 0.3837\n",
            "Epoch 4/25\n",
            "10/10 [==============================] - 0s 7ms/step - loss: 0.2563 - val_loss: 0.3381\n",
            "Epoch 5/25\n",
            "10/10 [==============================] - 0s 4ms/step - loss: 0.2214 - val_loss: 0.3407\n",
            "Epoch 6/25\n",
            "10/10 [==============================] - 0s 4ms/step - loss: 0.1973 - val_loss: 0.3045\n",
            "Epoch 7/25\n",
            "10/10 [==============================] - 0s 5ms/step - loss: 0.1883 - val_loss: 0.3874\n",
            "Epoch 8/25\n",
            "10/10 [==============================] - 0s 4ms/step - loss: 0.2231 - val_loss: 0.4336\n",
            "Epoch 9/25\n",
            "10/10 [==============================] - 0s 4ms/step - loss: 0.2299 - val_loss: 0.2843\n",
            "Epoch 10/25\n",
            "10/10 [==============================] - 0s 4ms/step - loss: 0.1701 - val_loss: 0.3262\n",
            "Epoch 11/25\n",
            "10/10 [==============================] - 0s 6ms/step - loss: 0.1968 - val_loss: 0.2965\n",
            "Epoch 12/25\n",
            "10/10 [==============================] - 0s 6ms/step - loss: 0.1507 - val_loss: 0.2196\n",
            "Epoch 13/25\n",
            "10/10 [==============================] - 0s 4ms/step - loss: 0.1337 - val_loss: 0.5030\n",
            "Epoch 14/25\n",
            "10/10 [==============================] - 0s 4ms/step - loss: 0.1881 - val_loss: 0.1526\n",
            "Epoch 15/25\n",
            "10/10 [==============================] - 0s 4ms/step - loss: 0.1133 - val_loss: 0.1356\n",
            "Epoch 16/25\n",
            "10/10 [==============================] - 0s 6ms/step - loss: 0.1602 - val_loss: 0.1600\n",
            "Epoch 17/25\n",
            "10/10 [==============================] - 0s 4ms/step - loss: 0.1242 - val_loss: 0.2261\n",
            "Epoch 18/25\n",
            "10/10 [==============================] - 0s 4ms/step - loss: 0.1786 - val_loss: 0.3791\n",
            "Epoch 19/25\n",
            "10/10 [==============================] - 0s 5ms/step - loss: 0.2273 - val_loss: 0.5956\n",
            "Epoch 20/25\n",
            "10/10 [==============================] - 0s 4ms/step - loss: 0.2311 - val_loss: 0.3290\n",
            "Epoch 21/25\n",
            "10/10 [==============================] - 0s 4ms/step - loss: 0.1419 - val_loss: 0.3034\n",
            "Epoch 22/25\n",
            "10/10 [==============================] - 0s 6ms/step - loss: 0.1281 - val_loss: 0.2112\n",
            "Epoch 23/25\n",
            "10/10 [==============================] - 0s 5ms/step - loss: 0.1631 - val_loss: 0.2709\n",
            "Epoch 24/25\n",
            "10/10 [==============================] - 0s 4ms/step - loss: 0.1535 - val_loss: 0.2886\n",
            "Epoch 25/25\n",
            "10/10 [==============================] - 0s 6ms/step - loss: 0.1865 - val_loss: 0.2637\n"
          ]
        }
      ]
    },
    {
      "cell_type": "code",
      "metadata": {
        "id": "LaTwrQU1DRyu",
        "colab": {
          "base_uri": "https://localhost:8080/",
          "height": 279
        },
        "outputId": "8b412d64-a03e-4a19-c9f7-db0ef102060e"
      },
      "source": [
        "# 4.15 회귀 모델 학습 결과 시각화\n",
        "import matplotlib.pyplot as plt\n",
        "plt.plot(history.history['loss'], 'b-', label='loss')\n",
        "plt.plot(history.history['val_loss'], 'r--', label='val_loss')\n",
        "plt.xlabel('Epoch')\n",
        "plt.legend()\n",
        "plt.show()"
      ],
      "execution_count": null,
      "outputs": [
        {
          "output_type": "display_data",
          "data": {
            "image/png": "[encoded data removed]",
            "text/plain": [
              "<Figure size 432x288 with 1 Axes>"
            ]
          },
          "metadata": {
            "needs_background": "light"
          }
        }
      ]
    },
    {
      "cell_type": "code",
      "metadata": {
        "id": "gSBZF7D9DVX-",
        "colab": {
          "base_uri": "https://localhost:8080/"
        },
        "outputId": "a65b3ed4-f24a-4d83-8467-6407942761af"
      },
      "source": [
        "# 4.16 회귀 모델 평가\n",
        "model.evaluate(test_X, test_Y)"
      ],
      "execution_count": null,
      "outputs": [
        {
          "output_type": "stream",
          "name": "stdout",
          "text": [
            "4/4 [==============================] - 0s 3ms/step - loss: 0.2184\n"
          ]
        },
        {
          "output_type": "execute_result",
          "data": {
            "text/plain": [
              "0.21842296421527863"
            ]
          },
          "metadata": {},
          "execution_count": 37
        }
      ]
    },
    {
      "cell_type": "code",
      "metadata": {
        "id": "YkVBAI6dDem2",
        "colab": {
          "base_uri": "https://localhost:8080/",
          "height": 502
        },
        "outputId": "2151da9e-5280-4b16-b97c-8e699cb1b8a0"
      },
      "source": [
        "# 4.17 실제 주택 가격과 예측 주택 가격 시각화\n",
        "import matplotlib.pyplot as plt\n",
        "\n",
        "pred_Y = model.predict(test_X)\n",
        "\n",
        "plt.figure(figsize=(8,8))\n",
        "plt.plot(test_Y, pred_Y, 'b.')\n",
        "# x, y축 범위 설정\n",
        "plt.axis([min(test_Y), max(test_Y), min(test_Y), max(test_Y)])\n",
        "\n",
        "# y=x에 해당하는 대각선\n",
        "plt.plot([min(test_Y), max(test_Y)], [min(test_Y), max(test_Y)], ls=\"--\", c=\".5\")\n",
        "plt.xlabel('test_Y')\n",
        "plt.ylabel('pred_Y')\n",
        "\n",
        "plt.show()"
      ],
      "execution_count": null,
      "outputs": [
        {
          "output_type": "display_data",
          "data": {
            "image/png": "[encoded data removed]",
            "text/plain": [
              "<Figure size 576x576 with 1 Axes>"
            ]
          },
          "metadata": {
            "needs_background": "light"
          }
        }
      ]
    },
    {
      "cell_type": "code",
      "metadata": {
        "id": "sWljciW9Dl9X",
        "colab": {
          "base_uri": "https://localhost:8080/"
        },
        "outputId": "1e97b0ee-fe9a-4c16-a030-633640d32bae"
      },
      "source": [
        "# 4.18 모델 재정의 및 학습\n",
        "model = tf.keras.Sequential([\n",
        "    tf.keras.layers.Dense(units=52, activation='relu', input_shape=(13,)),\n",
        "    tf.keras.layers.Dense(units=39, activation='relu'),\n",
        "    tf.keras.layers.Dense(units=26, activation='relu'),\n",
        "    tf.keras.layers.Dense(units=1)\n",
        "])\n",
        "\n",
        "model.compile(optimizer=tf.keras.optimizers.Adam(lr=0.07), loss='mse')\n",
        "\n",
        "history = model.fit(train_X, train_Y, epochs=25, batch_size=32, validation_split=0.25,\n",
        "                    callbacks=[tf.keras.callbacks.EarlyStopping(patience=3, monitor='val_loss')])"
      ],
      "execution_count": null,
      "outputs": [
        {
          "output_type": "stream",
          "name": "stderr",
          "text": [
            "/usr/local/lib/python3.7/dist-packages/keras/optimizer_v2/optimizer_v2.py:356: UserWarning: The `lr` argument is deprecated, use `learning_rate` instead.\n",
            "  \"The `lr` argument is deprecated, use `learning_rate` instead.\")\n"
          ]
        },
        {
          "output_type": "stream",
          "name": "stdout",
          "text": [
            "Epoch 1/25\n",
            "10/10 [==============================] - 1s 16ms/step - loss: 1.6120 - val_loss: 0.6281\n",
            "Epoch 2/25\n",
            "10/10 [==============================] - 0s 4ms/step - loss: 0.3916 - val_loss: 0.4531\n",
            "Epoch 3/25\n",
            "10/10 [==============================] - 0s 5ms/step - loss: 0.2726 - val_loss: 0.2999\n",
            "Epoch 4/25\n",
            "10/10 [==============================] - 0s 6ms/step - loss: 0.2343 - val_loss: 0.3230\n",
            "Epoch 5/25\n",
            "10/10 [==============================] - 0s 6ms/step - loss: 0.2165 - val_loss: 0.1677\n",
            "Epoch 6/25\n",
            "10/10 [==============================] - 0s 7ms/step - loss: 0.1550 - val_loss: 0.1774\n",
            "Epoch 7/25\n",
            "10/10 [==============================] - 0s 4ms/step - loss: 0.1265 - val_loss: 0.1812\n",
            "Epoch 8/25\n",
            "10/10 [==============================] - 0s 4ms/step - loss: 0.1221 - val_loss: 0.2845\n"
          ]
        }
      ]
    },
    {
      "cell_type": "code",
      "metadata": {
        "id": "GSlPsFP-EOSf",
        "colab": {
          "base_uri": "https://localhost:8080/",
          "height": 279
        },
        "outputId": "7183dc73-d6e3-4c71-b5e5-0a3483decbad"
      },
      "source": [
        "# 4.19 회귀 모델 학습 결과 시각화\n",
        "import matplotlib.pyplot as plt\n",
        "plt.plot(history.history['loss'], 'b-', label='loss')\n",
        "plt.plot(history.history['val_loss'], 'r--', label='val_loss')\n",
        "plt.xlabel('Epoch')\n",
        "plt.legend()\n",
        "plt.show()"
      ],
      "execution_count": null,
      "outputs": [
        {
          "output_type": "display_data",
          "data": {
            "image/png": "[encoded data removed]",
            "text/plain": [
              "<Figure size 432x288 with 1 Axes>"
            ]
          },
          "metadata": {
            "needs_background": "light"
          }
        }
      ]
    },
    {
      "cell_type": "code",
      "metadata": {
        "id": "ZL4HCaSKES4n",
        "colab": {
          "base_uri": "https://localhost:8080/"
        },
        "outputId": "084d907a-c3d2-4fe5-b822-b83e9634ea7b"
      },
      "source": [
        "# 4.20 회귀 모델 평가\n",
        "model.evaluate(test_X, test_Y)"
      ],
      "execution_count": null,
      "outputs": [
        {
          "output_type": "stream",
          "name": "stdout",
          "text": [
            "4/4 [==============================] - 0s 3ms/step - loss: 0.3985\n"
          ]
        },
        {
          "output_type": "execute_result",
          "data": {
            "text/plain": [
              "0.3984910547733307"
            ]
          },
          "metadata": {},
          "execution_count": 41
        }
      ]
    },
    {
      "cell_type": "code",
      "metadata": {
        "id": "1ik6kYorEZq_",
        "colab": {
          "base_uri": "https://localhost:8080/",
          "height": 502
        },
        "outputId": "77cc07d7-2edf-410f-97e2-eebdf41ebca3"
      },
      "source": [
        "# 4.21 실제 주택 가격과 예측 주택 가격 시각화\n",
        "import matplotlib.pyplot as plt\n",
        "\n",
        "pred_Y = model.predict(test_X)\n",
        "\n",
        "plt.figure(figsize=(8,8))\n",
        "plt.plot(test_Y, pred_Y, 'b.')\n",
        "plt.axis([min(test_Y), max(test_Y), min(test_Y), max(test_Y)])\n",
        "\n",
        "plt.plot([min(test_Y), max(test_Y)], [min(test_Y), max(test_Y)], ls=\"--\", c=\".3\")\n",
        "plt.xlabel('test_Y')\n",
        "plt.ylabel('pred_Y')\n",
        "\n",
        "plt.show()"
      ],
      "execution_count": null,
      "outputs": [
        {
          "output_type": "display_data",
          "data": {
            "image/png": "[encoded data removed]",
            "text/plain": [
              "<Figure size 576x576 with 1 Axes>"
            ]
          },
          "metadata": {
            "needs_background": "light"
          }
        }
      ]
    },
    {
      "cell_type": "code",
      "metadata": {
        "id": "wzYN7MGpEh3n",
        "colab": {
          "base_uri": "https://localhost:8080/"
        },
        "outputId": "4b3e6a4e-4685-40db-9199-cefa7dea85b3"
      },
      "source": [
        "# 모델 재정의 및 학습, dropout 사용\n",
        "model = tf.keras.Sequential([\n",
        "    tf.keras.layers.Dense(units=52, activation='relu', input_shape=(13,)),\n",
        "    tf.keras.layers.Dropout(.1),\n",
        "    tf.keras.layers.Dense(units=39, activation='relu'),\n",
        "    tf.keras.layers.Dense(units=26, activation='relu'),\n",
        "    tf.keras.layers.Dropout(.1),\n",
        "    tf.keras.layers.Dense(units=1)\n",
        "])\n",
        "\n",
        "model.compile(optimizer=tf.keras.optimizers.Adam(lr=0.07), loss='mse')\n",
        "\n",
        "# history = model.fit(train_X, train_Y, epochs=50, batch_size=32, validation_split=0.25,\n",
        "#                     callbacks=[tf.keras.callbacks.EarlyStopping(patience=8, monitor='val_loss')])\n",
        "history = model.fit(train_X, train_Y, epochs=50, batch_size=32, validation_split=0.25)"
      ],
      "execution_count": null,
      "outputs": [
        {
          "output_type": "stream",
          "name": "stderr",
          "text": [
            "/usr/local/lib/python3.7/dist-packages/keras/optimizer_v2/optimizer_v2.py:356: UserWarning: The `lr` argument is deprecated, use `learning_rate` instead.\n",
            "  \"The `lr` argument is deprecated, use `learning_rate` instead.\")\n"
          ]
        },
        {
          "output_type": "stream",
          "name": "stdout",
          "text": [
            "Epoch 1/50\n",
            "10/10 [==============================] - 1s 15ms/step - loss: 2.6006 - val_loss: 1.2664\n",
            "Epoch 2/50\n",
            "10/10 [==============================] - 0s 4ms/step - loss: 0.7211 - val_loss: 0.8832\n",
            "Epoch 3/50\n",
            "10/10 [==============================] - 0s 5ms/step - loss: 0.4728 - val_loss: 0.6558\n",
            "Epoch 4/50\n",
            "10/10 [==============================] - 0s 4ms/step - loss: 0.4330 - val_loss: 0.4472\n",
            "Epoch 5/50\n",
            "10/10 [==============================] - 0s 6ms/step - loss: 0.3676 - val_loss: 0.3198\n",
            "Epoch 6/50\n",
            "10/10 [==============================] - 0s 4ms/step - loss: 0.3309 - val_loss: 0.2062\n",
            "Epoch 7/50\n",
            "10/10 [==============================] - 0s 6ms/step - loss: 0.3850 - val_loss: 0.3871\n",
            "Epoch 8/50\n",
            "10/10 [==============================] - 0s 4ms/step - loss: 0.2965 - val_loss: 0.2696\n",
            "Epoch 9/50\n",
            "10/10 [==============================] - 0s 4ms/step - loss: 0.2668 - val_loss: 0.3145\n",
            "Epoch 10/50\n",
            "10/10 [==============================] - 0s 4ms/step - loss: 0.2134 - val_loss: 0.2138\n",
            "Epoch 11/50\n",
            "10/10 [==============================] - 0s 6ms/step - loss: 0.2309 - val_loss: 0.1898\n",
            "Epoch 12/50\n",
            "10/10 [==============================] - 0s 4ms/step - loss: 0.2868 - val_loss: 0.1812\n",
            "Epoch 13/50\n",
            "10/10 [==============================] - 0s 4ms/step - loss: 0.2439 - val_loss: 0.1735\n",
            "Epoch 14/50\n",
            "10/10 [==============================] - 0s 4ms/step - loss: 0.2370 - val_loss: 0.2128\n",
            "Epoch 15/50\n",
            "10/10 [==============================] - 0s 4ms/step - loss: 0.1837 - val_loss: 0.1995\n",
            "Epoch 16/50\n",
            "10/10 [==============================] - 0s 4ms/step - loss: 0.2269 - val_loss: 0.2659\n",
            "Epoch 17/50\n",
            "10/10 [==============================] - 0s 6ms/step - loss: 0.2685 - val_loss: 0.3001\n",
            "Epoch 18/50\n",
            "10/10 [==============================] - 0s 4ms/step - loss: 0.2309 - val_loss: 0.2324\n",
            "Epoch 19/50\n",
            "10/10 [==============================] - 0s 4ms/step - loss: 0.2034 - val_loss: 0.1895\n",
            "Epoch 20/50\n",
            "10/10 [==============================] - 0s 5ms/step - loss: 0.2412 - val_loss: 0.6526\n",
            "Epoch 21/50\n",
            "10/10 [==============================] - 0s 5ms/step - loss: 0.2806 - val_loss: 0.4219\n",
            "Epoch 22/50\n",
            "10/10 [==============================] - 0s 4ms/step - loss: 0.2273 - val_loss: 0.2707\n",
            "Epoch 23/50\n",
            "10/10 [==============================] - 0s 4ms/step - loss: 0.2491 - val_loss: 0.1865\n",
            "Epoch 24/50\n",
            "10/10 [==============================] - 0s 5ms/step - loss: 0.1848 - val_loss: 0.2543\n",
            "Epoch 25/50\n",
            "10/10 [==============================] - 0s 5ms/step - loss: 0.1886 - val_loss: 0.1917\n",
            "Epoch 26/50\n",
            "10/10 [==============================] - 0s 5ms/step - loss: 0.2057 - val_loss: 0.1429\n",
            "Epoch 27/50\n",
            "10/10 [==============================] - 0s 5ms/step - loss: 0.2202 - val_loss: 0.3193\n",
            "Epoch 28/50\n",
            "10/10 [==============================] - 0s 5ms/step - loss: 0.3228 - val_loss: 0.3390\n",
            "Epoch 29/50\n",
            "10/10 [==============================] - 0s 7ms/step - loss: 0.2057 - val_loss: 0.3162\n",
            "Epoch 30/50\n",
            "10/10 [==============================] - 0s 6ms/step - loss: 0.2061 - val_loss: 0.1401\n",
            "Epoch 31/50\n",
            "10/10 [==============================] - 0s 5ms/step - loss: 0.1599 - val_loss: 0.1361\n",
            "Epoch 32/50\n",
            "10/10 [==============================] - 0s 5ms/step - loss: 0.1462 - val_loss: 0.1395\n",
            "Epoch 33/50\n",
            "10/10 [==============================] - 0s 5ms/step - loss: 0.1548 - val_loss: 0.1890\n",
            "Epoch 34/50\n",
            "10/10 [==============================] - 0s 7ms/step - loss: 0.1455 - val_loss: 0.1469\n",
            "Epoch 35/50\n",
            "10/10 [==============================] - 0s 4ms/step - loss: 0.1573 - val_loss: 0.2788\n",
            "Epoch 36/50\n",
            "10/10 [==============================] - 0s 4ms/step - loss: 0.1816 - val_loss: 0.2670\n",
            "Epoch 37/50\n",
            "10/10 [==============================] - 0s 5ms/step - loss: 0.1824 - val_loss: 0.1943\n",
            "Epoch 38/50\n",
            "10/10 [==============================] - 0s 4ms/step - loss: 0.1368 - val_loss: 0.1625\n",
            "Epoch 39/50\n",
            "10/10 [==============================] - 0s 4ms/step - loss: 0.1572 - val_loss: 0.1882\n",
            "Epoch 40/50\n",
            "10/10 [==============================] - 0s 4ms/step - loss: 0.1615 - val_loss: 0.4066\n",
            "Epoch 41/50\n",
            "10/10 [==============================] - 0s 4ms/step - loss: 0.1997 - val_loss: 0.3539\n",
            "Epoch 42/50\n",
            "10/10 [==============================] - 0s 6ms/step - loss: 0.1782 - val_loss: 0.3053\n",
            "Epoch 43/50\n",
            "10/10 [==============================] - 0s 4ms/step - loss: 0.2000 - val_loss: 0.3359\n",
            "Epoch 44/50\n",
            "10/10 [==============================] - 0s 4ms/step - loss: 0.2238 - val_loss: 0.3020\n",
            "Epoch 45/50\n",
            "10/10 [==============================] - 0s 7ms/step - loss: 0.2248 - val_loss: 0.2485\n",
            "Epoch 46/50\n",
            "10/10 [==============================] - 0s 4ms/step - loss: 0.1227 - val_loss: 0.2335\n",
            "Epoch 47/50\n",
            "10/10 [==============================] - 0s 4ms/step - loss: 0.1834 - val_loss: 0.1844\n",
            "Epoch 48/50\n",
            "10/10 [==============================] - 0s 4ms/step - loss: 0.1525 - val_loss: 0.1828\n",
            "Epoch 49/50\n",
            "10/10 [==============================] - 0s 4ms/step - loss: 0.1562 - val_loss: 0.3002\n",
            "Epoch 50/50\n",
            "10/10 [==============================] - 0s 6ms/step - loss: 0.1771 - val_loss: 0.1934\n"
          ]
        }
      ]
    },
    {
      "cell_type": "code",
      "metadata": {
        "id": "GD2RN3AZICkt",
        "colab": {
          "base_uri": "https://localhost:8080/",
          "height": 279
        },
        "outputId": "542f27f1-eb86-4226-85ce-02fa4627456c"
      },
      "source": [
        "# 4.19 회귀 모델 학습 결과 시각화\n",
        "import matplotlib.pyplot as plt\n",
        "plt.plot(history.history['loss'], 'b-', label='loss')\n",
        "plt.plot(history.history['val_loss'], 'r--', label='val_loss')\n",
        "plt.xlabel('Epoch')\n",
        "plt.legend()\n",
        "plt.show()"
      ],
      "execution_count": null,
      "outputs": [
        {
          "output_type": "display_data",
          "data": {
            "image/png": "[encoded data removed]",
            "text/plain": [
              "<Figure size 432x288 with 1 Axes>"
            ]
          },
          "metadata": {
            "needs_background": "light"
          }
        }
      ]
    },
    {
      "cell_type": "code",
      "metadata": {
        "id": "c_APeKARIVuu",
        "colab": {
          "base_uri": "https://localhost:8080/"
        },
        "outputId": "a4c571e7-7346-43da-eaac-ca564e535e80"
      },
      "source": [
        "# 4.20 회귀 모델 평가\n",
        "model.evaluate(test_X, test_Y)"
      ],
      "execution_count": null,
      "outputs": [
        {
          "output_type": "stream",
          "name": "stdout",
          "text": [
            "4/4 [==============================] - 0s 3ms/step - loss: 0.3022\n"
          ]
        },
        {
          "output_type": "execute_result",
          "data": {
            "text/plain": [
              "0.3021870255470276"
            ]
          },
          "metadata": {},
          "execution_count": 50
        }
      ]
    },
    {
      "cell_type": "code",
      "metadata": {
        "id": "ET559TvgIrfO",
        "colab": {
          "base_uri": "https://localhost:8080/",
          "height": 502
        },
        "outputId": "60af6fe3-61b6-407c-8c8f-f14119745344"
      },
      "source": [
        "# 4.21 실제 주택 가격과 예측 주택 가격 시각화\n",
        "import matplotlib.pyplot as plt\n",
        "\n",
        "pred_Y = model.predict(test_X)\n",
        "\n",
        "plt.figure(figsize=(8,8))\n",
        "plt.plot(test_Y, pred_Y, 'r.')\n",
        "plt.axis([min(test_Y), max(test_Y), min(test_Y), max(test_Y)])\n",
        "\n",
        "plt.plot([min(test_Y), max(test_Y)], [min(test_Y), max(test_Y)], ls=\"--\", c=\".3\")\n",
        "plt.xlabel('test_Y')\n",
        "plt.ylabel('pred_Y')\n",
        "\n",
        "plt.show()"
      ],
      "execution_count": null,
      "outputs": [
        {
          "output_type": "display_data",
          "data": {
            "image/png": "[encoded data removed]",
            "text/plain": [
              "<Figure size 576x576 with 1 Axes>"
            ]
          },
          "metadata": {
            "needs_background": "light"
          }
        }
      ]
    },
    {
      "cell_type": "code",
      "metadata": {
        "id": "nM9GWf54IzCm"
      },
      "source": [
        ""
      ],
      "execution_count": null,
      "outputs": []
    }
  ]
}